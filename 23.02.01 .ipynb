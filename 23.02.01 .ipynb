{
 "cells": [
  {
   "cell_type": "code",
   "execution_count": 114,
   "id": "e2f84198",
   "metadata": {
    "scrolled": true
   },
   "outputs": [
    {
     "name": "stdout",
     "output_type": "stream",
     "text": [
      "<class 'pandas.core.frame.DataFrame'>\n",
      "RangeIndex: 891 entries, 0 to 890\n",
      "Data columns (total 6 columns):\n",
      " #   Column       Non-Null Count  Dtype  \n",
      "---  ------       --------------  -----  \n",
      " 0   PassengerId  891 non-null    int64  \n",
      " 1   Survived     891 non-null    int64  \n",
      " 2   Pclass       891 non-null    int64  \n",
      " 3   SibSp        891 non-null    int64  \n",
      " 4   Parch        891 non-null    int64  \n",
      " 5   Fare         891 non-null    float64\n",
      "dtypes: float64(1), int64(5)\n",
      "memory usage: 41.9 KB\n"
     ]
    }
   ],
   "source": [
    "from sklearn.preprocessing import OneHotEncoder, LabelEncoder\n",
    "import numpy as np\n",
    "import pandas as pd\n",
    "ex = ['a', 'b', 'c', 'd', 'e', 'f', 'g']\n",
    "'''\n",
    "ex = np.array(ex).reshape(-1, 1)\n",
    "\n",
    "encoder = OneHotEncoder()\n",
    "encoder.fit(ex)\n",
    "results = encoder.transform(ex)\n",
    "print(results)\n",
    "print(results.toarray())\n",
    "'''\n",
    "df = pd.read_csv('titanic_train.csv')\n",
    "a = pd.get_dummies(df['Survived'])\n",
    "a.value_counts()\n",
    "\n",
    "df.drop(labels = ['Age', 'Cabin', 'Name', 'Sex', 'Ticket', 'Embarked'], axis = 1, inplace = True)\n",
    "\n",
    "df2 = pd.concat([df, a])\n",
    "#df2.head(10)"
   ]
  }
 ],
 "metadata": {
  "kernelspec": {
   "display_name": "Python 3 (ipykernel)",
   "language": "python",
   "name": "python3"
  },
  "language_info": {
   "codemirror_mode": {
    "name": "ipython",
    "version": 3
   },
   "file_extension": ".py",
   "mimetype": "text/x-python",
   "name": "python",
   "nbconvert_exporter": "python",
   "pygments_lexer": "ipython3",
   "version": "3.9.13"
  }
 },
 "nbformat": 4,
 "nbformat_minor": 5
}
